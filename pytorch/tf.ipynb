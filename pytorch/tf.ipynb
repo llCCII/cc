{
 "cells": [
  {
   "cell_type": "code",
   "execution_count": 1,
   "metadata": {},
   "outputs": [],
   "source": [
    "import tensorflow as tf"
   ]
  },
  {
   "cell_type": "code",
   "execution_count": null,
   "metadata": {},
   "outputs": [],
   "source": [
    "#神经网络搭建\n",
    "model=tf.keras.models.Sequential()\n",
    "#输出层，拉伸框架\n",
    "model.add(tf.keras.layers.Flatten(input_shape=(28,28)))\n",
    "#隐藏层,128个神经元\n",
    "model.add(tf.keras.Dense(128,activation='relu'))\n",
    "#输出层\n",
    "model.add(tf.keras.layers.Dense(10,activation='softmax'))\n",
    "\n",
    "#编译模型\n",
    "model.compile(optimizer'adam',loss='sparse_categorical crossentropy',metrics=['accuarcy'])\n",
    "\n",
    "#拟合 分别对应x_train,y_train,x_test,y_test\n",
    "model.fit(train_images,train_labels,verbose=1,epochs=20,validation_data=(test_images,test_labels))\n",
    "\n",
    "\n",
    "\n"
   ]
  },
  {
   "cell_type": "code",
   "execution_count": null,
   "metadata": {},
   "outputs": [],
   "source": [
    "#保存模型\n",
    "model.save('model.h5')"
   ]
  },
  {
   "cell_type": "code",
   "execution_count": null,
   "metadata": {},
   "outputs": [],
   "source": [
    "#调用模型\n",
    "model=tf.keras.models.load_model('model.h5')\n",
    "#查看模型信息，输入层隐藏输出\n",
    "model.summary()\n",
    "\n",
    "#导入读取的验证数据\n",
    "import matplotlib.pyplot as plt\n",
    "\n",
    "for i in range(30):\n",
    "    #读取图片\n",
    "    image=plt.imread('testimages/'+str(i)+'.jpg')\n",
    "    #转换维度\n",
    "    image_new=image.reshape([1,28,28])\n",
    "    #预测\n",
    "    result=model.predict(image_new)[0].argmax()\n",
    "    print('第',i,'张照片数字是',result)\n"
   ]
  }
 ],
 "metadata": {
  "interpreter": {
   "hash": "7b4b4feff2f24a0f0a34464dbe537a36fda679851528fb8735cb41fa49dffb2d"
  },
  "kernelspec": {
   "display_name": "Python 3.6.3 ('base')",
   "language": "python",
   "name": "python3"
  },
  "language_info": {
   "codemirror_mode": {
    "name": "ipython",
    "version": 3
   },
   "file_extension": ".py",
   "mimetype": "text/x-python",
   "name": "python",
   "nbconvert_exporter": "python",
   "pygments_lexer": "ipython3",
   "version": "3.6.3"
  },
  "orig_nbformat": 4
 },
 "nbformat": 4,
 "nbformat_minor": 2
}
