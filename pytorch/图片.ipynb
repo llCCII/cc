{
 "cells": [
  {
   "cell_type": "code",
   "execution_count": 15,
   "metadata": {},
   "outputs": [
    {
     "ename": "OSError",
     "evalue": "image file is truncated (0 bytes not processed)",
     "output_type": "error",
     "traceback": [
      "\u001b[1;31m---------------------------------------------------------------------------\u001b[0m",
      "\u001b[1;31mOSError\u001b[0m                                   Traceback (most recent call last)",
      "\u001b[1;32m<ipython-input-15-1cc1e50c19db>\u001b[0m in \u001b[0;36m<module>\u001b[1;34m\u001b[0m\n\u001b[0;32m     32\u001b[0m     \u001b[1;31m#数据转换\u001b[0m\u001b[1;33m\u001b[0m\u001b[1;33m\u001b[0m\u001b[0m\n\u001b[0;32m     33\u001b[0m     \u001b[1;31m#颜色分割\u001b[0m\u001b[1;33m\u001b[0m\u001b[1;33m\u001b[0m\u001b[0m\n\u001b[1;32m---> 34\u001b[1;33m     \u001b[0mr\u001b[0m\u001b[1;33m,\u001b[0m\u001b[0mg\u001b[0m\u001b[1;33m,\u001b[0m\u001b[0mb\u001b[0m\u001b[1;33m=\u001b[0m\u001b[0mimg\u001b[0m\u001b[1;33m.\u001b[0m\u001b[0msplit\u001b[0m\u001b[1;33m(\u001b[0m\u001b[1;33m)\u001b[0m\u001b[1;33m\u001b[0m\u001b[0m\n\u001b[0m\u001b[0;32m     35\u001b[0m     \u001b[0mrd\u001b[0m\u001b[1;33m=\u001b[0m\u001b[0mnp\u001b[0m\u001b[1;33m.\u001b[0m\u001b[0masfarray\u001b[0m\u001b[1;33m(\u001b[0m\u001b[0mr\u001b[0m\u001b[1;33m)\u001b[0m\u001b[1;33m\u001b[0m\u001b[0m\n\u001b[0;32m     36\u001b[0m     \u001b[0mgd\u001b[0m\u001b[1;33m=\u001b[0m\u001b[0mnp\u001b[0m\u001b[1;33m.\u001b[0m\u001b[0masfarray\u001b[0m\u001b[1;33m(\u001b[0m\u001b[0mg\u001b[0m\u001b[1;33m)\u001b[0m\u001b[1;33m\u001b[0m\u001b[0m\n",
      "\u001b[1;32mD:\\anaconda3\\lib\\site-packages\\PIL\\Image.py\u001b[0m in \u001b[0;36msplit\u001b[1;34m(self)\u001b[0m\n\u001b[0;32m   2303\u001b[0m         \"\"\"\n\u001b[0;32m   2304\u001b[0m \u001b[1;33m\u001b[0m\u001b[0m\n\u001b[1;32m-> 2305\u001b[1;33m         \u001b[0mself\u001b[0m\u001b[1;33m.\u001b[0m\u001b[0mload\u001b[0m\u001b[1;33m(\u001b[0m\u001b[1;33m)\u001b[0m\u001b[1;33m\u001b[0m\u001b[0m\n\u001b[0m\u001b[0;32m   2306\u001b[0m         \u001b[1;32mif\u001b[0m \u001b[0mself\u001b[0m\u001b[1;33m.\u001b[0m\u001b[0mim\u001b[0m\u001b[1;33m.\u001b[0m\u001b[0mbands\u001b[0m \u001b[1;33m==\u001b[0m \u001b[1;36m1\u001b[0m\u001b[1;33m:\u001b[0m\u001b[1;33m\u001b[0m\u001b[0m\n\u001b[0;32m   2307\u001b[0m             \u001b[0mims\u001b[0m \u001b[1;33m=\u001b[0m \u001b[1;33m[\u001b[0m\u001b[0mself\u001b[0m\u001b[1;33m.\u001b[0m\u001b[0mcopy\u001b[0m\u001b[1;33m(\u001b[0m\u001b[1;33m)\u001b[0m\u001b[1;33m]\u001b[0m\u001b[1;33m\u001b[0m\u001b[0m\n",
      "\u001b[1;32mD:\\anaconda3\\lib\\site-packages\\PIL\\ImageFile.py\u001b[0m in \u001b[0;36mload\u001b[1;34m(self)\u001b[0m\n\u001b[0;32m    248\u001b[0m                                 \u001b[1;32melse\u001b[0m\u001b[1;33m:\u001b[0m\u001b[1;33m\u001b[0m\u001b[0m\n\u001b[0;32m    249\u001b[0m                                     raise OSError(\n\u001b[1;32m--> 250\u001b[1;33m                                         \u001b[1;34m\"image file is truncated \"\u001b[0m\u001b[1;33m\u001b[0m\u001b[0m\n\u001b[0m\u001b[0;32m    251\u001b[0m                                         \u001b[1;34mf\"({len(b)} bytes not processed)\"\u001b[0m\u001b[1;33m\u001b[0m\u001b[0m\n\u001b[0;32m    252\u001b[0m                                     )\n",
      "\u001b[1;31mOSError\u001b[0m: image file is truncated (0 bytes not processed)"
     ]
    }
   ],
   "source": [
    "from PIL import Image\n",
    "import numpy as np\n",
    "#获取全部图片\n",
    "import os,re\n",
    "#路径\n",
    "path='C:\\\\Users\\\\HP\\\\Desktop\\\\示例数据\\\\附件1\\\\'\n",
    "file_names=os.listdir(path)\n",
    "img_names=[]\n",
    "for i in file_names:\n",
    "    img_names.append(i)   #全部图片获取完成\n",
    "\n",
    "#三阶矩\n",
    "def var(rd):\n",
    "    mid=np.mean((rd-rd.mean())**3)\n",
    "    return np.sign(mid)*abs(mid)**(1/3)\n",
    "\n",
    "\n",
    "#获取特征值\n",
    "n=len(img_names)\n",
    "#存储特征值\n",
    "data=np.zeros([n,9])\n",
    "#存储标签\n",
    "labels=np.zeros([n])\n",
    "for i in range(n):\n",
    "    img=Image.open(path+img_names[i])\n",
    "    #去除噪声数据\n",
    "    #截取中心图片\n",
    "    # M,N=img.size\n",
    "    # img.crop(M/2-50,N/2-50,M/2+50,N/2+50) #取中心点\n",
    "\n",
    "    #数据预处理\n",
    "    #数据转换\n",
    "    #颜色分割\n",
    "    r,g,b=img.split()\n",
    "    rd=np.asfarray(r)\n",
    "    gd=np.asfarray(g)\n",
    "    bd=np.asfarray(b)\n",
    "\n",
    "    data[i,0]=rd.mean() #一阶矩\n",
    "    data[i,1]=gd.mean()\n",
    "    data[i,2]=bd.mean()\n",
    "\n",
    "    data[i,3]=rd.std() #二阶矩\n",
    "    data[i,4]=gd.std()\n",
    "    data[i,5]=bd.std()\n",
    "\n",
    "    data[i,6]=var(rd) #三阶矩\n",
    "    data[i,7]=var(gd) \n",
    "    data[i,8]=var(bd) "
   ]
  },
  {
   "cell_type": "code",
   "execution_count": null,
   "metadata": {},
   "outputs": [],
   "source": []
  },
  {
   "cell_type": "code",
   "execution_count": 6,
   "metadata": {},
   "outputs": [
    {
     "name": "stdout",
     "output_type": "stream",
     "text": [
      "-46.425271085110815\n"
     ]
    }
   ],
   "source": [
    "from PIL import Image\n",
    "import numpy as np\n",
    "#路径\n",
    "path='C:\\\\Users\\\\HP\\\\Desktop\\\\示例数据\\\\附件1\\\\'\n",
    "#读取\n",
    "img=Image.open(path+'00004.jpg')\n",
    "#去除噪声数据\n",
    "#截取中心图片\n",
    "# M,N=img.size\n",
    "# img.crop(M/2-50,N/2-50,M/2+50,N/2+50) #取中心点\n",
    "#展示\n",
    "# img.show()\n",
    "\n",
    "#数据预处理\n",
    "#数据转换\n",
    "#颜色分割\n",
    "r,g,b=img.split()\n",
    "rd=np.asfarray(r)\n",
    "r1=rd.mean() #一阶矩\n",
    "r2=rd.std() #二阶矩\n",
    "#三阶矩\n",
    "def var(rd):\n",
    "    mid=np.mean((rd-rd.mean())**3)\n",
    "    return np.sign(mid)*abs(mid)**(1/3)\n",
    "r3=var(rd)\n",
    "\n",
    "\n"
   ]
  },
  {
   "cell_type": "code",
   "execution_count": null,
   "metadata": {},
   "outputs": [],
   "source": [
    "# C:\\Users\\HP\\Desktop\\示例数据\\附件1"
   ]
  }
 ],
 "metadata": {
  "interpreter": {
   "hash": "7b4b4feff2f24a0f0a34464dbe537a36fda679851528fb8735cb41fa49dffb2d"
  },
  "kernelspec": {
   "display_name": "Python 3.6.3 ('base')",
   "language": "python",
   "name": "python3"
  },
  "language_info": {
   "codemirror_mode": {
    "name": "ipython",
    "version": 3
   },
   "file_extension": ".py",
   "mimetype": "text/x-python",
   "name": "python",
   "nbconvert_exporter": "python",
   "pygments_lexer": "ipython3",
   "version": "3.6.3"
  },
  "orig_nbformat": 4
 },
 "nbformat": 4,
 "nbformat_minor": 2
}
